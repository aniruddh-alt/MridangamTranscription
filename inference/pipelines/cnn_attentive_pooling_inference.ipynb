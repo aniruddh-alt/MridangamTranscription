{
 "cells": [
  {
   "cell_type": "code",
   "execution_count": null,
   "id": "a50c388f",
   "metadata": {},
   "outputs": [],
   "source": [
    "# setup model for inference\n",
    "from model_architecture.CNN_attentive_pooling import MridangamCNN\n",
    "import torch\n",
    "import torch.nn as nn\n",
    "\n"
   ]
  }
 ],
 "metadata": {
  "language_info": {
   "name": "python"
  }
 },
 "nbformat": 4,
 "nbformat_minor": 5
}
